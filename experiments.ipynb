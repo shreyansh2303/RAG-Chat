{
 "cells": [
  {
   "cell_type": "code",
   "execution_count": 2,
   "metadata": {},
   "outputs": [],
   "source": [
    "import numpy as np\n",
    "\n",
    "def fdr_correction(p_values, alpha=0.05):\n",
    "    p_values = np.array(p_values)\n",
    "    m = len(p_values)  # Total number of tests\n",
    "    sorted_indices = np.argsort(p_values)  # Indices that would sort the p-values\n",
    "    sorted_p_values = p_values[sorted_indices]  # Sorted p-values\n",
    "\n",
    "    # Compute adjusted p-values\n",
    "    adjusted_p_values = np.empty(m)\n",
    "    cumulative_min = 1.0  # Start with the largest p-value in reverse order\n",
    "    for i in range(m - 1, -1, -1):\n",
    "        rank = i + 1  # Rank in sorted list (1-based)\n",
    "        adjusted_p_value = (m / rank) * sorted_p_values[i]\n",
    "        cumulative_min = min(cumulative_min, adjusted_p_value)  # Ensure monotonicity\n",
    "        adjusted_p_values[i] = cumulative_min\n",
    "\n",
    "    # Return p-values to their original order\n",
    "    adjusted_p_values = np.clip(adjusted_p_values, 0, 1)  # Ensure all adjusted p-values are <= 1\n",
    "    adjusted_p_values_original_order = np.empty(m)\n",
    "    adjusted_p_values_original_order[sorted_indices] = adjusted_p_values\n",
    "\n",
    "    return adjusted_p_values_original_order"
   ]
  },
  {
   "cell_type": "code",
   "execution_count": 4,
   "metadata": {},
   "outputs": [
    {
     "data": {
      "text/plain": [
       "{'Original p-values': array([7.93944865e-17, 2.37036494e-08, 1.53522680e-01, 4.52776518e-01,\n",
       "        9.68885922e-01, 9.17729162e-01, 5.49837859e-01, 2.14392520e-01,\n",
       "        7.91620325e-01, 6.01574257e-01]),\n",
       " 'Adjusted p-values': array([7.93944865e-16, 1.18518247e-07, 5.11742265e-01, 8.59391796e-01,\n",
       "        9.68885922e-01, 9.68885922e-01, 8.59391796e-01, 5.35981300e-01,\n",
       "        9.68885922e-01, 8.59391796e-01]),\n",
       " 'Significant predictors': array([ True,  True, False, False, False, False, False, False, False,\n",
       "        False])}"
      ]
     },
     "execution_count": 4,
     "metadata": {},
     "output_type": "execute_result"
    }
   ],
   "source": [
    "import numpy as np\n",
    "import statsmodels.api as sm\n",
    "from statsmodels.stats.multitest import multipletests\n",
    "\n",
    "# Generate example data\n",
    "np.random.seed(42)\n",
    "n_obs = 100  # Number of observations\n",
    "n_preds = 10  # Number of predictors\n",
    "\n",
    "# Generate random predictors and response variable\n",
    "X = np.random.rand(n_obs, n_preds)  # Predictor variables\n",
    "y = 3 * X[:, 0] + 2 * X[:, 1] + np.random.randn(n_obs)  # Response variable with signal in X[:, 0] and X[:, 1]\n",
    "\n",
    "# Add an intercept to X\n",
    "X = sm.add_constant(X)\n",
    "\n",
    "# Fit the linear regression model\n",
    "model = sm.OLS(y, X).fit()\n",
    "\n",
    "# Extract p-values for all predictors (excluding the intercept)\n",
    "p_values = model.pvalues[1:]  # Skip the intercept\n",
    "\n",
    "# Apply Benjamini-Hochberg FDR correction\n",
    "alpha = 0.05  # Desired FDR level\n",
    "fdr_results = multipletests(p_values, alpha=alpha, method='fdr_bh')\n",
    "adjusted_p_values = fdr_results[1]\n",
    "significant = fdr_results[0]\n",
    "\n",
    "# Display results\n",
    "{\n",
    "    \"Original p-values\": p_values,\n",
    "    \"Adjusted p-values\": adjusted_p_values,\n",
    "    \"Significant predictors\": significant\n",
    "}\n"
   ]
  },
  {
   "cell_type": "code",
   "execution_count": 4,
   "metadata": {},
   "outputs": [],
   "source": [
    "a = fdr_correction(p_values=[0,0,0,0,0], alpha=0.05)"
   ]
  },
  {
   "cell_type": "code",
   "execution_count": 5,
   "metadata": {},
   "outputs": [
    {
     "data": {
      "text/plain": [
       "0.0"
      ]
     },
     "execution_count": 5,
     "metadata": {},
     "output_type": "execute_result"
    }
   ],
   "source": [
    "a[0]"
   ]
  },
  {
   "cell_type": "code",
   "execution_count": null,
   "metadata": {},
   "outputs": [],
   "source": []
  }
 ],
 "metadata": {
  "kernelspec": {
   "display_name": "nlp",
   "language": "python",
   "name": "python3"
  },
  "language_info": {
   "codemirror_mode": {
    "name": "ipython",
    "version": 3
   },
   "file_extension": ".py",
   "mimetype": "text/x-python",
   "name": "python",
   "nbconvert_exporter": "python",
   "pygments_lexer": "ipython3",
   "version": "3.12.7"
  }
 },
 "nbformat": 4,
 "nbformat_minor": 2
}
